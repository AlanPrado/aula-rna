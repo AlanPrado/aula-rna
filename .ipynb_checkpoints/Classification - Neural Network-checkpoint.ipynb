{
 "cells": [
  {
   "cell_type": "markdown",
   "metadata": {},
   "source": [
    "Rede Neural - Perceptron\n",
    "\n",
    "Função Sigmoid."
   ]
  },
  {
   "cell_type": "code",
   "execution_count": 1,
   "metadata": {
    "collapsed": true
   },
   "outputs": [],
   "source": [
    "import numpy as np\n",
    "%matplotlib inline\n",
    "import matplotlib.pyplot as plt\n",
    "import math\n",
    "\n",
    "sigmoid = lambda x: 1.0 / (1 + np.exp(-x))"
   ]
  },
  {
   "cell_type": "markdown",
   "metadata": {},
   "source": [
    "Desenhando a função sigmoid:"
   ]
  },
  {
   "cell_type": "code",
   "execution_count": 2,
   "metadata": {
    "scrolled": true
   },
   "outputs": [
    {
     "data": {
      "image/png": "[encoded data removed]",
      "text/plain": [
       "<matplotlib.figure.Figure at 0x8a96160>"
      ]
     },
     "metadata": {},
     "output_type": "display_data"
    }
   ],
   "source": [
    "x = np.arange(-10., 10., 0.2)\n",
    "values = [sigmoid(item) for item in x]\n",
    "\n",
    "plt.plot(x, values)\n",
    "plt.show()"
   ]
  },
  {
   "cell_type": "markdown",
   "metadata": {},
   "source": [
    "Função auxiliar para ler dados:"
   ]
  },
  {
   "cell_type": "code",
   "execution_count": 3,
   "metadata": {
    "collapsed": true
   },
   "outputs": [],
   "source": [
    "def loadDataSet(file):\n",
    "    features = []; labels = []\n",
    "    with open(file) as fr:\n",
    "        for line in fr.readlines():\n",
    "            f1, f2, label = line.strip().split()\n",
    "            # add bias value.\n",
    "            features.append([1.0, float(f1), float(f2)])\n",
    "            labels.append(int(label))\n",
    "    return features, labels"
   ]
  },
  {
   "cell_type": "markdown",
   "metadata": {},
   "source": [
    "Função de treinamento:"
   ]
  },
  {
   "cell_type": "code",
   "execution_count": 4,
   "metadata": {
    "collapsed": true
   },
   "outputs": [],
   "source": [
    "def gradAscent(features, labels, alpha=0.1, maxCycles=20000, precision=0.03):\n",
    "    F = np.mat(features)\n",
    "    LT = np.mat(labels).transpose()\n",
    "\n",
    "    nRow, nCol = np.shape(F)\n",
    "    weights = np.ones((nCol, 1))\n",
    "    \n",
    "    for k in range(maxCycles):\n",
    "        h = sigmoid(F * weights)\n",
    "        error = LT - h\n",
    "        sme = np.mean(np.asarray(error)**2)\n",
    "        \n",
    "        if (sme < precision):\n",
    "            print('Epochs: %d\\n' % (k))\n",
    "            break\n",
    "        \n",
    "        weights = weights + (alpha * F.transpose() * error)\n",
    "        \n",
    "    return weights"
   ]
  },
  {
   "cell_type": "markdown",
   "metadata": {},
   "source": [
    "Modelo treinado:"
   ]
  },
  {
   "cell_type": "code",
   "execution_count": 5,
   "metadata": {
    "scrolled": true
   },
   "outputs": [
    {
     "name": "stdout",
     "output_type": "stream",
     "text": [
      "Epochs: 86\n",
      "\n",
      "[[ 71.8135133 ]\n",
      " [ 11.28854468]\n",
      " [-10.08488433]]\n"
     ]
    }
   ],
   "source": [
    "features, labels = loadDataSet('trainingset.txt')\n",
    "weights = gradAscent(features, labels)\n",
    "print (weights)"
   ]
  },
  {
   "cell_type": "markdown",
   "metadata": {},
   "source": [
    "Desenhando o modelo treinado:"
   ]
  },
  {
   "cell_type": "code",
   "execution_count": 6,
   "metadata": {},
   "outputs": [
    {
     "data": {
      "image/png": "[encoded data removed]",
      "text/plain": [
       "<matplotlib.figure.Figure at 0x8b45748>"
      ]
     },
     "metadata": {},
     "output_type": "display_data"
    }
   ],
   "source": [
    "def plotBoundary(features, labels, weights):\n",
    "    FT = np.matrix(features).transpose()\n",
    "    \n",
    "    def get_series_by_label(lblName):\n",
    "        lbl = np.array(labels) == lblName\n",
    "        return np.extract(lbl, FT[1]), np.extract(lbl, FT[2])\n",
    "\n",
    "    xcord1, ycord1 = get_series_by_label(0)\n",
    "    xcord2, ycord2 = get_series_by_label(1)\n",
    "    \n",
    "    fig = plt.figure()\n",
    "    # add plot - 1 row, 1 column, first subplot\n",
    "    ax = fig.add_subplot(111)\n",
    "    \n",
    "    ax.scatter(xcord1, ycord1, s=30, c='red', marker='s')\n",
    "    ax.scatter(xcord2, ycord2, s=30, c='green')\n",
    "\n",
    "    # draw boundary line\n",
    "    x = np.array(np.arange(-3.0, 3.0, 0.1))\n",
    "    y = np.array((-weights[0] - (weights[1] * x)) / weights[2])[0]\n",
    "    ax.plot(x, y)\n",
    "    \n",
    "    plt.xlabel('X'); plt.ylabel('Y');\n",
    "    plt.show()\n",
    "\n",
    "features, labels = loadDataSet('trainingset.txt')\n",
    "plotBoundary(features, labels, weights)"
   ]
  },
  {
   "cell_type": "markdown",
   "metadata": {},
   "source": [
    "We can classify a new dataset, by following:"
   ]
  },
  {
   "cell_type": "code",
   "execution_count": 7,
   "metadata": {},
   "outputs": [
    {
     "data": {
      "image/png": "[encoded data removed]",
      "text/plain": [
       "<matplotlib.figure.Figure at 0x89e3e10>"
      ]
     },
     "metadata": {},
     "output_type": "display_data"
    },
    {
     "name": "stdout",
     "output_type": "stream",
     "text": [
      "1 of 30 errors.\n",
      "Accuracy: 96.67\n"
     ]
    }
   ],
   "source": [
    "classify = lambda(p): 1 if sigmoid(p) > 0.5 else 0\n",
    "\n",
    "features, labels = loadDataSet('testSet.txt')\n",
    "\n",
    "prob = np.matrix(features) * weights\n",
    "prediction = np.apply_along_axis(classify, 1, prob)\n",
    "result = prediction == labels\n",
    "hit = sum(result)\n",
    "totalSamples = len(result)\n",
    "\n",
    "plotBoundary(features, labels, weights)\n",
    "\n",
    "print '%d of %d errors.' % (totalSamples - hit, totalSamples)\n",
    "print 'Accuracy: %0.2f' % (hit * 100.0 / totalSamples) "
   ]
  },
  {
   "cell_type": "code",
   "execution_count": null,
   "metadata": {
    "collapsed": true
   },
   "outputs": [],
   "source": []
  }
 ],
 "metadata": {
  "kernelspec": {
   "display_name": "Python 2",
   "language": "python",
   "name": "python2"
  },
  "language_info": {
   "codemirror_mode": {
    "name": "ipython",
    "version": 2
   },
   "file_extension": ".py",
   "mimetype": "text/x-python",
   "name": "python",
   "nbconvert_exporter": "python",
   "pygments_lexer": "ipython2",
   "version": "2.7.14"
  }
 },
 "nbformat": 4,
 "nbformat_minor": 1
}
