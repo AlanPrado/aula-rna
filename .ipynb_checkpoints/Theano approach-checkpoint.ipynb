{
 "cells": [
  {
   "cell_type": "markdown",
   "metadata": {},
   "source": [
    "Rede Neural - Perceptron\n",
    "\n",
    "For learning purposes, according to __[reddit](https://www.reddit.com/r/MachineLearning/comments/4ekywt/tensorflow_vs_theano_which_to_learn/)__ Theano is:\n",
    "\n",
    "- faster\n",
    "- more memory-efficient\n",
    "- easier to learn (much more examples / tutorials / discussions)\n",
    "- will teach about optimizers which are usually built-in TF.\n",
    "\n",
    "Draw the sigmoid function:"
   ]
  },
  {
   "cell_type": "code",
   "execution_count": 6,
   "metadata": {},
   "outputs": [
    {
     "data": {
      "image/png": "[encoded data removed]",
      "text/plain": [
       "<Figure size 432x288 with 1 Axes>"
      ]
     },
     "metadata": {
      "needs_background": "light"
     },
     "output_type": "display_data"
    }
   ],
   "source": [
    "import theano\n",
    "import theano.tensor as T\n",
    "import numpy as np\n",
    "%matplotlib inline\n",
    "import matplotlib.pyplot as plt\n",
    "from theano import shared\n",
    "from theano import function\n",
    "from theano.ifelse import ifelse\n",
    "\n",
    "a, b, step = T.dscalars('a', 'b', 'step')\n",
    "x = T.arange(a, b, step)\n",
    "y = T.nnet.sigmoid(x)\n",
    "\n",
    "x_f = function([a, b, step], x)\n",
    "y_f = function([x], y)\n",
    "\n",
    "x_actual = x_f(-10, 10, 0.2)\n",
    "y_actual = y_f(x_actual)\n",
    "\n",
    "plt.plot(x_actual, y_actual)\n",
    "plt.show()"
   ]
  },
  {
   "cell_type": "markdown",
   "metadata": {},
   "source": [
    "Function to read data:"
   ]
  },
  {
   "cell_type": "code",
   "execution_count": 7,
   "metadata": {},
   "outputs": [],
   "source": [
    "def loadDataSet(file):\n",
    "    features = []; labels = []\n",
    "    with open(file) as fr:\n",
    "        for line in fr.readlines():\n",
    "            f1, f2, label = line.strip().split()\n",
    "            # add bias value.\n",
    "            features.append([1.0, float(f1), float(f2)])\n",
    "            labels.append(int(label))\n",
    "    return features, labels"
   ]
  },
  {
   "cell_type": "markdown",
   "metadata": {},
   "source": [
    "Training function"
   ]
  },
  {
   "cell_type": "code",
   "execution_count": 8,
   "metadata": {},
   "outputs": [
    {
     "name": "stdout",
     "output_type": "stream",
     "text": [
      "Epochs: 86\n",
      "\n",
      "[[ 71.81750164]\n",
      " [ 11.29332288]\n",
      " [-10.0541681 ]]\n"
     ]
    }
   ],
   "source": [
    "def gradAscent(features, labels, alpha=0.1, maxCycles=20000, precision=0.03):\n",
    "    nRow, nCol = np.shape(np.mat(features))\n",
    "    w = theano.shared(np.ones(nCol, dtype=np.float64))\n",
    "\n",
    "    F = T.dmatrix('F')\n",
    "    L = T.dvector('L')\n",
    "\n",
    "    FT = F.T\n",
    "    LT = L.T\n",
    "    h = T.dot(F, w)\n",
    "    error = LT - T.nnet.sigmoid(h)\n",
    "    sme = T.mean(error**2)\n",
    "    cost_f = function([F, L], sme)\n",
    "    \n",
    "    gradient_f = function([F, L], updates=[(w, w + (alpha * T.dot(FT, error)))])\n",
    "    \n",
    "    for k in range(maxCycles):\n",
    "        v = cost_f(features, labels)        \n",
    "\n",
    "        if (v < precision):\n",
    "            print('Epochs: %d\\n' % (k))\n",
    "            break\n",
    "            \n",
    "        gradient_f(features, labels)\n",
    "\n",
    "    return np.mat(w.get_value()).transpose()\n",
    "\n",
    "features, labels = loadDataSet('trainingset.txt')\n",
    "weights = gradAscent(features, labels)\n",
    "print(weights)"
   ]
  },
  {
   "cell_type": "markdown",
   "metadata": {},
   "source": [
    "Draw the trained model:"
   ]
  },
  {
   "cell_type": "code",
   "execution_count": 9,
   "metadata": {},
   "outputs": [
    {
     "data": {
      "image/png": "[encoded data removed]",
      "text/plain": [
       "<Figure size 432x288 with 1 Axes>"
      ]
     },
     "metadata": {
      "needs_background": "light"
     },
     "output_type": "display_data"
    }
   ],
   "source": [
    "def plotBoundary(features, labels, weights):\n",
    "    FT = np.matrix(features).transpose()\n",
    "    \n",
    "    def get_series_by_label(lblName):\n",
    "        lbl = np.array(labels) == lblName\n",
    "        return np.extract(lbl, FT[1]), np.extract(lbl, FT[2])\n",
    "\n",
    "    xcord1, ycord1 = get_series_by_label(0)\n",
    "    xcord2, ycord2 = get_series_by_label(1)\n",
    "    \n",
    "    fig = plt.figure()\n",
    "    # add plot - 1 row, 1 column, first subplot\n",
    "    ax = fig.add_subplot(111)\n",
    "    \n",
    "    ax.scatter(xcord1, ycord1, s=30, c='red', marker='s')\n",
    "    ax.scatter(xcord2, ycord2, s=30, c='green')\n",
    "\n",
    "    # draw boundary line\n",
    "    x = np.array(np.arange(-3.0, 3.0, 0.1))\n",
    "    y = np.array((-weights[0] - (weights[1] * x)) / weights[2])[0]\n",
    "    ax.plot(x, y)\n",
    "    \n",
    "    plt.xlabel('X'); plt.ylabel('Y');\n",
    "    plt.show()\n",
    "\n",
    "features, labels = loadDataSet('trainingset.txt')\n",
    "plotBoundary(features, labels, weights)"
   ]
  },
  {
   "cell_type": "code",
   "execution_count": 53,
   "metadata": {},
   "outputs": [
    {
     "ename": "TypeError",
     "evalue": "Condition given to the op has to be a scalar with 0 standing for False, anything else for True",
     "output_type": "error",
     "traceback": [
      "\u001b[1;31m---------------------------------------------------------------------------\u001b[0m",
      "\u001b[1;31mTypeError\u001b[0m                                 Traceback (most recent call last)",
      "\u001b[1;32m<ipython-input-53-28b1bb4ac146>\u001b[0m in \u001b[0;36m<module>\u001b[1;34m\u001b[0m\n\u001b[0;32m     11\u001b[0m \u001b[0mprob\u001b[0m \u001b[1;33m=\u001b[0m \u001b[0mT\u001b[0m\u001b[1;33m.\u001b[0m\u001b[0mdot\u001b[0m\u001b[1;33m(\u001b[0m\u001b[0mF\u001b[0m\u001b[1;33m,\u001b[0m \u001b[0mw\u001b[0m\u001b[1;33m)\u001b[0m\u001b[1;33m\u001b[0m\u001b[1;33m\u001b[0m\u001b[0m\n\u001b[0;32m     12\u001b[0m \u001b[1;31m#prediction = theano.scan(lambda p, i: ifelse(T.lt(p,0.5), 1, 0), sequences=[prob], outputs_info=[X])\u001b[0m\u001b[1;33m\u001b[0m\u001b[1;33m\u001b[0m\u001b[1;33m\u001b[0m\u001b[0m\n\u001b[1;32m---> 13\u001b[1;33m prediction, updates = theano.scan(fn=ifelse(T.lt(prob,0.5), 1, 0),\n\u001b[0m\u001b[0;32m     14\u001b[0m                               \u001b[0moutputs_info\u001b[0m\u001b[1;33m=\u001b[0m\u001b[0mX\u001b[0m\u001b[1;33m,\u001b[0m\u001b[1;33m\u001b[0m\u001b[1;33m\u001b[0m\u001b[0m\n\u001b[0;32m     15\u001b[0m                               n_steps=D)\n",
      "\u001b[1;32m~\\Anaconda2\\envs\\tensor\\lib\\site-packages\\theano\\ifelse.py\u001b[0m in \u001b[0;36mifelse\u001b[1;34m(condition, then_branch, else_branch, name)\u001b[0m\n\u001b[0;32m    391\u001b[0m \u001b[1;33m\u001b[0m\u001b[0m\n\u001b[0;32m    392\u001b[0m     \u001b[0mins\u001b[0m \u001b[1;33m=\u001b[0m \u001b[1;33m[\u001b[0m\u001b[0mcondition\u001b[0m\u001b[1;33m]\u001b[0m \u001b[1;33m+\u001b[0m \u001b[0mlist\u001b[0m\u001b[1;33m(\u001b[0m\u001b[0mnew_then_branch\u001b[0m\u001b[1;33m)\u001b[0m \u001b[1;33m+\u001b[0m \u001b[0mlist\u001b[0m\u001b[1;33m(\u001b[0m\u001b[0mnew_else_branch\u001b[0m\u001b[1;33m)\u001b[0m\u001b[1;33m\u001b[0m\u001b[1;33m\u001b[0m\u001b[0m\n\u001b[1;32m--> 393\u001b[1;33m     \u001b[0mrval\u001b[0m \u001b[1;33m=\u001b[0m \u001b[0mnew_ifelse\u001b[0m\u001b[1;33m(\u001b[0m\u001b[1;33m*\u001b[0m\u001b[0mins\u001b[0m\u001b[1;33m,\u001b[0m \u001b[1;33m**\u001b[0m\u001b[0mdict\u001b[0m\u001b[1;33m(\u001b[0m\u001b[0mreturn_list\u001b[0m\u001b[1;33m=\u001b[0m\u001b[1;32mTrue\u001b[0m\u001b[1;33m)\u001b[0m\u001b[1;33m)\u001b[0m\u001b[1;33m\u001b[0m\u001b[1;33m\u001b[0m\u001b[0m\n\u001b[0m\u001b[0;32m    394\u001b[0m \u001b[1;33m\u001b[0m\u001b[0m\n\u001b[0;32m    395\u001b[0m     \u001b[1;32mif\u001b[0m \u001b[0mrval_type\u001b[0m \u001b[1;32mis\u001b[0m \u001b[1;32mNone\u001b[0m\u001b[1;33m:\u001b[0m\u001b[1;33m\u001b[0m\u001b[1;33m\u001b[0m\u001b[0m\n",
      "\u001b[1;32m~\\Anaconda2\\envs\\tensor\\lib\\site-packages\\theano\\gof\\op.py\u001b[0m in \u001b[0;36m__call__\u001b[1;34m(self, *inputs, **kwargs)\u001b[0m\n\u001b[0;32m    613\u001b[0m         \"\"\"\n\u001b[0;32m    614\u001b[0m         \u001b[0mreturn_list\u001b[0m \u001b[1;33m=\u001b[0m \u001b[0mkwargs\u001b[0m\u001b[1;33m.\u001b[0m\u001b[0mpop\u001b[0m\u001b[1;33m(\u001b[0m\u001b[1;34m'return_list'\u001b[0m\u001b[1;33m,\u001b[0m \u001b[1;32mFalse\u001b[0m\u001b[1;33m)\u001b[0m\u001b[1;33m\u001b[0m\u001b[1;33m\u001b[0m\u001b[0m\n\u001b[1;32m--> 615\u001b[1;33m         \u001b[0mnode\u001b[0m \u001b[1;33m=\u001b[0m \u001b[0mself\u001b[0m\u001b[1;33m.\u001b[0m\u001b[0mmake_node\u001b[0m\u001b[1;33m(\u001b[0m\u001b[1;33m*\u001b[0m\u001b[0minputs\u001b[0m\u001b[1;33m,\u001b[0m \u001b[1;33m**\u001b[0m\u001b[0mkwargs\u001b[0m\u001b[1;33m)\u001b[0m\u001b[1;33m\u001b[0m\u001b[1;33m\u001b[0m\u001b[0m\n\u001b[0m\u001b[0;32m    616\u001b[0m \u001b[1;33m\u001b[0m\u001b[0m\n\u001b[0;32m    617\u001b[0m         \u001b[1;32mif\u001b[0m \u001b[0mconfig\u001b[0m\u001b[1;33m.\u001b[0m\u001b[0mcompute_test_value\u001b[0m \u001b[1;33m!=\u001b[0m \u001b[1;34m'off'\u001b[0m\u001b[1;33m:\u001b[0m\u001b[1;33m\u001b[0m\u001b[1;33m\u001b[0m\u001b[0m\n",
      "\u001b[1;32m~\\Anaconda2\\envs\\tensor\\lib\\site-packages\\theano\\ifelse.py\u001b[0m in \u001b[0;36mmake_node\u001b[1;34m(self, c, *args)\u001b[0m\n\u001b[0;32m    188\u001b[0m                                 'false return values'), t, f, t.type, f.type)\n\u001b[0;32m    189\u001b[0m         \u001b[1;32mif\u001b[0m \u001b[0mc\u001b[0m\u001b[1;33m.\u001b[0m\u001b[0mndim\u001b[0m \u001b[1;33m>\u001b[0m \u001b[1;36m0\u001b[0m\u001b[1;33m:\u001b[0m\u001b[1;33m\u001b[0m\u001b[1;33m\u001b[0m\u001b[0m\n\u001b[1;32m--> 190\u001b[1;33m             raise TypeError(('Condition given to the op has to be a scalar '\n\u001b[0m\u001b[0;32m    191\u001b[0m                              \u001b[1;34m'with 0 standing for False, anything else '\u001b[0m\u001b[1;33m\u001b[0m\u001b[1;33m\u001b[0m\u001b[0m\n\u001b[0;32m    192\u001b[0m                              'for True'))\n",
      "\u001b[1;31mTypeError\u001b[0m: Condition given to the op has to be a scalar with 0 standing for False, anything else for True"
     ]
    }
   ],
   "source": [
    "features, labels = loadDataSet('testSet.txt')\n",
    "\n",
    "nRow, nCol = np.shape(np.mat(features))\n",
    "w = theano.shared(np.ones(nCol, dtype=np.float64))\n",
    "\n",
    "F = T.dmatrix('F')\n",
    "L = T.dvector('L')\n",
    "X = T.dvector('X')\n",
    "\n",
    "prob = T.dot(F, w)\n",
    "prediction = T.dvector('P')\n",
    "theano.scan(lambda p, b: , sequences=[prob], outputs_info=[X])\n",
    "\n",
    "abc = function([F], prediction)\n",
    "print (abc(features))\n",
    "result = prediction == labels\n",
    "hit = sum(result)\n",
    "totalSamples = len(result)\n",
    "\n",
    "plotBoundary(features, labels, weights)\n",
    "\n",
    "print ('%d of %d errors.' % (totalSamples - hit, totalSamples))\n",
    "print ('Accuracy: %0.2f' % (hit * 100.0 / totalSamples)) "
   ]
  },
  {
   "cell_type": "code",
   "execution_count": null,
   "metadata": {},
   "outputs": [],
   "source": []
  },
  {
   "cell_type": "code",
   "execution_count": null,
   "metadata": {},
   "outputs": [],
   "source": []
  }
 ],
 "metadata": {
  "kernelspec": {
   "display_name": "Python 3",
   "language": "python",
   "name": "python3"
  },
  "language_info": {
   "codemirror_mode": {
    "name": "ipython",
    "version": 3
   },
   "file_extension": ".py",
   "mimetype": "text/x-python",
   "name": "python",
   "nbconvert_exporter": "python",
   "pygments_lexer": "ipython3",
   "version": "3.6.8"
  }
 },
 "nbformat": 4,
 "nbformat_minor": 2
}
