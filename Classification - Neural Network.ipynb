{
 "cells": [
  {
   "cell_type": "markdown",
   "metadata": {},
   "source": [
    "Rede Neural - Perceptron\n",
    "\n",
    "Função Sigmoid."
   ]
  },
  {
   "cell_type": "code",
   "execution_count": 1,
   "metadata": {},
   "outputs": [],
   "source": [
    "import numpy as np\n",
    "%matplotlib inline\n",
    "import matplotlib.pyplot as plt\n",
    "import math\n",
    "\n",
    "sigmoid = lambda x: 1.0 / (1 + np.exp(-x))"
   ]
  },
  {
   "cell_type": "markdown",
   "metadata": {},
   "source": [
    "Desenhando a função sigmoid:"
   ]
  },
  {
   "cell_type": "code",
   "execution_count": 2,
   "metadata": {
    "scrolled": true
   },
   "outputs": [
    {
     "data": {
      "image/png": "[encoded data removed]",
      "text/plain": [
       "<Figure size 432x288 with 1 Axes>"
      ]
     },
     "metadata": {
      "needs_background": "light"
     },
     "output_type": "display_data"
    }
   ],
   "source": [
    "x = np.arange(-10., 10., 0.2)\n",
    "values = [sigmoid(item) for item in x]\n",
    "\n",
    "plt.plot(x, values)\n",
    "plt.show()"
   ]
  },
  {
   "cell_type": "markdown",
   "metadata": {},
   "source": [
    "Função auxiliar para ler dados:"
   ]
  },
  {
   "cell_type": "code",
   "execution_count": 3,
   "metadata": {},
   "outputs": [],
   "source": [
    "def loadDataSet(file):\n",
    "    features = []; labels = []\n",
    "    with open(file) as fr:\n",
    "        for line in fr.readlines():\n",
    "            f1, f2, label = line.strip().split()\n",
    "            # add bias value.\n",
    "            features.append([1.0, float(f1), float(f2)])\n",
    "            labels.append(int(label))\n",
    "    return features, labels"
   ]
  },
  {
   "cell_type": "markdown",
   "metadata": {},
   "source": [
    "Função de treinamento:"
   ]
  },
  {
   "cell_type": "code",
   "execution_count": 4,
   "metadata": {},
   "outputs": [],
   "source": [
    "def gradAscent(features, labels, alpha=0.1, maxCycles=20000, precision=0.03):\n",
    "    # matrix with N rows and 3 columns\n",
    "    # 1 f1_01 f2_01\n",
    "    # 1 f1_02 f2_02\n",
    "    # ...\n",
    "    # 1 f1_N f2_N\n",
    "    F = np.mat(features)\n",
    "    \n",
    "    # matrix with 3 rows and N columns\n",
    "    # 1     1     ... 1\n",
    "    # f1_01 f1_02 ... f1_03\n",
    "    # f2_01 f2_02 ... f2_03\n",
    "    FT = F.transpose()\n",
    "\n",
    "    # matrix with N rows and 1 column\n",
    "    # became a matrix with 1 rows and N columns\n",
    "    # values are either 0 or 1\n",
    "    # l1 l2 l3 ... LN\n",
    "    LT = np.mat(labels).transpose()\n",
    "\n",
    "    # N rows and 3 cols\n",
    "    nRow, nCol = np.shape(F)\n",
    "\n",
    "    # matrix with 3 rows and 1 column\n",
    "    weights = np.ones((nCol, 1))\n",
    "    \n",
    "    for k in range(maxCycles):\n",
    "        # dot product between the matrix F[N, 3] and weigths[3, 1]\n",
    "        # which gives a matrix h = [N, 1]\n",
    "        # [1] w1 * 1 + w2 * f1_01 + wN * f2_01\n",
    "        # [2] w1 * 1 + w2 * f1_02 + wN * f2_02\n",
    "        # ...\n",
    "        # [N] w1 * 1 + w2 * f1_N  + wN * f2_N\n",
    "        h = F * weights\n",
    "\n",
    "        # sigmoid classify h as 0 or 1\n",
    "        # subtract s(h) from LT[1, N]\n",
    "        # [1] l1 - s(h1)\n",
    "        # [2] l2 - s(h2)\n",
    "        # ...\n",
    "        # [N] lN - s(hN)\n",
    "        error = LT - sigmoid(h)\n",
    "        \n",
    "        # square root each error and calculate the average\n",
    "        # [1] ((l1 - s(h1)) ** 2 + (l2 - s(h2)) ** 2 + ... + (lN - s(hN)) ** 2) / N \n",
    "        sme = np.mean(np.asarray(error)**2)\n",
    "        \n",
    "        if (sme < precision):\n",
    "            print('Epochs: %d\\n' % (k))\n",
    "            break\n",
    "        \n",
    "        # calculate the gradient\n",
    "        # weights[3, 1] + 0.1 * FT[3, N] * error[N, 1]\n",
    "        # = weights[3, 1] + 0.1 * FTerror[3, 1]\n",
    "        # [1] w1 + 0.1 * 1     * error[1] + 0.1 * 1     * error[2] + ... + 0.1 * 1     * error[N], \n",
    "        #     w2 + 0.1 * f1_01 * error[1] + 0.1 * f1_02 * error[2] + ... + 0.1 * f1_0N * error[N],\n",
    "        #     w3 + 0.1 * f2_01 * error[1] + 0.1 * f2_02 * error[2] + ... + 0.1 * f2_0N * error[N]\n",
    "        weights = weights + (alpha * FT * error)\n",
    "        \n",
    "    return weights"
   ]
  },
  {
   "cell_type": "markdown",
   "metadata": {},
   "source": [
    "Modelo treinado:"
   ]
  },
  {
   "cell_type": "code",
   "execution_count": 5,
   "metadata": {
    "scrolled": true
   },
   "outputs": [
    {
     "name": "stdout",
     "output_type": "stream",
     "text": [
      "Epochs: 86\n",
      "\n",
      "[[ 71.8135133 ]\n",
      " [ 11.28854468]\n",
      " [-10.08488433]]\n"
     ]
    }
   ],
   "source": [
    "features, labels = loadDataSet('trainingset.txt')\n",
    "weights = gradAscent(features, labels)\n",
    "print (weights)"
   ]
  },
  {
   "cell_type": "markdown",
   "metadata": {},
   "source": [
    "Desenhando o modelo treinado:"
   ]
  },
  {
   "cell_type": "code",
   "execution_count": 6,
   "metadata": {},
   "outputs": [
    {
     "data": {
      "image/png": "[encoded data removed]",
      "text/plain": [
       "<Figure size 432x288 with 1 Axes>"
      ]
     },
     "metadata": {
      "needs_background": "light"
     },
     "output_type": "display_data"
    }
   ],
   "source": [
    "def plotBoundary(features, labels, weights):\n",
    "    FT = np.matrix(features).transpose()\n",
    "    \n",
    "    def get_series_by_label(lblName):\n",
    "        lbl = np.array(labels) == lblName\n",
    "        return np.extract(lbl, FT[1]), np.extract(lbl, FT[2])\n",
    "\n",
    "    xcord1, ycord1 = get_series_by_label(0)\n",
    "    xcord2, ycord2 = get_series_by_label(1)\n",
    "    \n",
    "    fig = plt.figure()\n",
    "    # add plot - 1 row, 1 column, first subplot\n",
    "    ax = fig.add_subplot(111)\n",
    "    \n",
    "    ax.scatter(xcord1, ycord1, s=30, c='red', marker='s')\n",
    "    ax.scatter(xcord2, ycord2, s=30, c='green')\n",
    "\n",
    "    # draw boundary line\n",
    "    x = np.array(np.arange(-3.0, 3.0, 0.1))\n",
    "    y = np.array((-weights[0] - (weights[1] * x)) / weights[2])[0]\n",
    "    ax.plot(x, y)\n",
    "    \n",
    "    plt.xlabel('X'); plt.ylabel('Y');\n",
    "    plt.show()\n",
    "\n",
    "features, labels = loadDataSet('trainingset.txt')\n",
    "plotBoundary(features, labels, weights)"
   ]
  },
  {
   "cell_type": "markdown",
   "metadata": {},
   "source": [
    "We can classify a new dataset, by following:"
   ]
  },
  {
   "cell_type": "code",
   "execution_count": 7,
   "metadata": {},
   "outputs": [
    {
     "data": {
      "image/png": "[encoded data removed]",
      "text/plain": [
       "<Figure size 432x288 with 1 Axes>"
      ]
     },
     "metadata": {
      "needs_background": "light"
     },
     "output_type": "display_data"
    },
    {
     "name": "stdout",
     "output_type": "stream",
     "text": [
      "1 of 30 errors.\n",
      "Accuracy: 96.67\n"
     ]
    }
   ],
   "source": [
    "classify = lambda p: 1 if sigmoid(p) > 0.5 else 0\n",
    "\n",
    "features, labels = loadDataSet('testSet.txt')\n",
    "\n",
    "prob = np.matrix(features) * weights\n",
    "prediction = np.apply_along_axis(classify, 1, prob)\n",
    "result = prediction == labels\n",
    "hit = sum(result)\n",
    "totalSamples = len(result)\n",
    "\n",
    "plotBoundary(features, labels, weights)\n",
    "\n",
    "print ('%d of %d errors.' % (totalSamples - hit, totalSamples))\n",
    "print ('Accuracy: %0.2f' % (hit * 100.0 / totalSamples)) "
   ]
  }
 ],
 "metadata": {
  "kernelspec": {
   "display_name": "Python 3",
   "language": "python",
   "name": "python3"
  },
  "language_info": {
   "codemirror_mode": {
    "name": "ipython",
    "version": 3
   },
   "file_extension": ".py",
   "mimetype": "text/x-python",
   "name": "python",
   "nbconvert_exporter": "python",
   "pygments_lexer": "ipython3",
   "version": "3.6.8"
  }
 },
 "nbformat": 4,
 "nbformat_minor": 1
}
